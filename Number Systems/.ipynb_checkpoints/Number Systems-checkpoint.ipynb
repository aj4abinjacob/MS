{
 "cells": [
  {
   "cell_type": "markdown",
   "id": "11789785",
   "metadata": {},
   "source": [
    "## Number Systems - a system for representing numbers"
   ]
  },
  {
   "cell_type": "markdown",
   "id": "82b125c6",
   "metadata": {},
   "source": [
    "The value of any digit in a number can be determined by a digit, its\n",
    "position in the number, and the base of the system."
   ]
  },
  {
   "cell_type": "markdown",
   "id": "563c2765",
   "metadata": {},
   "source": [
    "#### Popular number systems\n",
    "1. Decimal\n",
    "2. Binary\n",
    "3. Octal\n",
    "4. Hexadecimal"
   ]
  },
  {
   "cell_type": "code",
   "execution_count": 4,
   "id": "e3ab3025",
   "metadata": {},
   "outputs": [
    {
     "data": {
      "text/plain": [
       "[0, 1, 2, 3, 4, 5, 6, 7, 8, 9]"
      ]
     },
     "execution_count": 4,
     "metadata": {},
     "output_type": "execute_result"
    }
   ],
   "source": [
    "decimal_numbers = list(range(0,10))\n",
    "decimal_numbers"
   ]
  },
  {
   "cell_type": "code",
   "execution_count": 5,
   "id": "21bd4e4b",
   "metadata": {},
   "outputs": [
    {
     "data": {
      "text/plain": [
       "[0, 1]"
      ]
     },
     "execution_count": 5,
     "metadata": {},
     "output_type": "execute_result"
    }
   ],
   "source": [
    "binary_numbers = [0,1]\n",
    "binary_numbers"
   ]
  },
  {
   "cell_type": "code",
   "execution_count": 8,
   "id": "943950e5",
   "metadata": {},
   "outputs": [
    {
     "data": {
      "text/plain": [
       "[0, 1, 2, 3, 4, 5, 6, 7]"
      ]
     },
     "execution_count": 8,
     "metadata": {},
     "output_type": "execute_result"
    }
   ],
   "source": [
    "octal_numbers = list(range(0,8))\n",
    "octal_numbers"
   ]
  },
  {
   "cell_type": "code",
   "execution_count": 14,
   "id": "0837766f",
   "metadata": {},
   "outputs": [
    {
     "data": {
      "text/plain": [
       "[0, 1, 2, 3, 4, 5, 6, 7, 8, 9, 'A', 'B', 'C', 'D', 'E', 'F']"
      ]
     },
     "execution_count": 14,
     "metadata": {},
     "output_type": "execute_result"
    }
   ],
   "source": [
    "hexadecimal_numbers = list(range(0,10)) + [x for x in 'ABCDEF']\n",
    "hexadecimal_numbers"
   ]
  },
  {
   "cell_type": "code",
   "execution_count": 1,
   "id": "4732ce45",
   "metadata": {},
   "outputs": [],
   "source": [
    "import math"
   ]
  },
  {
   "cell_type": "code",
   "execution_count": 2,
   "id": "8dc012f4",
   "metadata": {},
   "outputs": [
    {
     "data": {
      "text/plain": [
       "1.0"
      ]
     },
     "execution_count": 2,
     "metadata": {},
     "output_type": "execute_result"
    }
   ],
   "source": [
    "math.pow(10,0)"
   ]
  },
  {
   "cell_type": "code",
   "execution_count": 39,
   "id": "b59ee848",
   "metadata": {},
   "outputs": [],
   "source": [
    "def showvalueCalculation(num,base):\n",
    "    num = str(num)\n",
    "    total_sum = 0\n",
    "    reverse_num = num[::-1]\n",
    "    for index, digit in enumerate(reverse_num):\n",
    "        current_total = int(digit) * math.pow(base,index)\n",
    "        print(digit, f'* {base} ^ {index} = ', current_total )\n",
    "        total_sum += current_total\n",
    "    print('Total =', total_sum)\n",
    "        \n",
    "        "
   ]
  },
  {
   "cell_type": "code",
   "execution_count": 42,
   "id": "520f41a7",
   "metadata": {},
   "outputs": [
    {
     "name": "stdout",
     "output_type": "stream",
     "text": [
      "4 * 10 ^ 0 =  4.0\n",
      "3 * 10 ^ 1 =  30.0\n",
      "2 * 10 ^ 2 =  200.0\n",
      "Total = 234.0\n"
     ]
    }
   ],
   "source": [
    "# Decimal\n",
    "showvalueCalculation('234',10)"
   ]
  },
  {
   "cell_type": "code",
   "execution_count": 43,
   "id": "f394768a",
   "metadata": {},
   "outputs": [
    {
     "name": "stdout",
     "output_type": "stream",
     "text": [
      "0 * 2 ^ 0 =  0.0\n",
      "1 * 2 ^ 1 =  2.0\n",
      "0 * 2 ^ 2 =  0.0\n",
      "1 * 2 ^ 3 =  8.0\n",
      "Total = 10.0\n"
     ]
    }
   ],
   "source": [
    "# Binary\n",
    "showvalueCalculation('1010',2)"
   ]
  },
  {
   "cell_type": "code",
   "execution_count": 47,
   "id": "7f623c2e",
   "metadata": {},
   "outputs": [
    {
     "data": {
      "text/plain": [
       "(3, 0)"
      ]
     },
     "execution_count": 47,
     "metadata": {},
     "output_type": "execute_result"
    }
   ],
   "source": [
    "divmod(6,2)"
   ]
  },
  {
   "cell_type": "code",
   "execution_count": 82,
   "id": "0510fc69",
   "metadata": {},
   "outputs": [],
   "source": [
    "#  long division\n",
    "# divide the num with 2 and then the num becomes quotient till the quotient is 0\n",
    "# add the remainders to get the binary value\n",
    "#  divisor will always be 2\n",
    "def decimalToBinary(num):\n",
    "    og_num = num \n",
    "    binary_form = ''\n",
    "    while True:\n",
    "        remainder = num % 2 \n",
    "        quotient = num // 2\n",
    "        print(num, quotient, remainder)\n",
    "        num = quotient\n",
    "        \n",
    "        binary_form = f\"{remainder}\" + binary_form\n",
    "        if quotient == 0:\n",
    "            break\n",
    "    print(f\"\\ndecimal = {og_num}\\nbinary  = {binary_form}\")"
   ]
  },
  {
   "cell_type": "code",
   "execution_count": 83,
   "id": "41c5749f",
   "metadata": {},
   "outputs": [
    {
     "name": "stdout",
     "output_type": "stream",
     "text": [
      "43 21 1\n",
      "21 10 1\n",
      "10 5 0\n",
      "5 2 1\n",
      "2 1 0\n",
      "1 0 1\n",
      "\n",
      "decimal = 43\n",
      "binary  = 101011\n"
     ]
    }
   ],
   "source": [
    "decimalToBinary(43)"
   ]
  },
  {
   "cell_type": "code",
   "execution_count": null,
   "id": "7355453d",
   "metadata": {},
   "outputs": [],
   "source": []
  },
  {
   "cell_type": "code",
   "execution_count": null,
   "id": "a614cfdd",
   "metadata": {},
   "outputs": [],
   "source": []
  }
 ],
 "metadata": {
  "kernelspec": {
   "display_name": "Python 3 (ipykernel)",
   "language": "python",
   "name": "python3"
  },
  "language_info": {
   "codemirror_mode": {
    "name": "ipython",
    "version": 3
   },
   "file_extension": ".py",
   "mimetype": "text/x-python",
   "name": "python",
   "nbconvert_exporter": "python",
   "pygments_lexer": "ipython3",
   "version": "3.9.12"
  }
 },
 "nbformat": 4,
 "nbformat_minor": 5
}
